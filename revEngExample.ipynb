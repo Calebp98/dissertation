{
 "cells": [
  {
   "cell_type": "code",
   "execution_count": 1,
   "metadata": {},
   "outputs": [],
   "source": [
    "import seaborn as sns\n",
    "import matplotlib as plt\n",
    "import matplotlib.pyplot as plot\n",
    "\n",
    "%matplotlib notebook"
   ]
  },
  {
   "cell_type": "code",
   "execution_count": 2,
   "metadata": {},
   "outputs": [],
   "source": [
    "import nest\n",
    "import numpy as np\n",
    "import numpy.ma as ma #for masked arrays\n",
    "\n",
    "from lsm.nest import LSM\n",
    "from lsm.utils import poisson_generator"
   ]
  },
  {
   "cell_type": "code",
   "execution_count": 3,
   "metadata": {},
   "outputs": [],
   "source": [
    "# set T to number of cores available to speed up simulation\n",
    "# T = 2\n",
    "# nest.SetKernelStatus({\"local_num_threads\": T})"
   ]
  },
  {
   "cell_type": "code",
   "execution_count": 4,
   "metadata": {},
   "outputs": [],
   "source": [
    "def generate_stimulus_xor(stim_times, gen_burst, n_inputs=2):\n",
    "    \n",
    "# generates input states for every input at every time\n",
    "    inp_states = np.random.randint(2, size=(n_inputs, np.size(stim_times)))\n",
    "    inp_spikes = []\n",
    "    \n",
    "# \n",
    "    for times in ma.masked_values(inp_states, 0) * stim_times:\n",
    "        # for each input (neuron): generate spikes according to state (=1) and stimulus time-grid\n",
    "        spikes = np.concatenate([t + gen_burst() for t in times.compressed()])\n",
    "\n",
    "        # round to simulation precision\n",
    "        spikes *= 10\n",
    "        spikes = spikes.round() + 1.0\n",
    "        spikes = spikes / 10.0\n",
    "\n",
    "        inp_spikes.append(spikes)\n",
    "\n",
    "    # astype(int) could be omitted, because False/True has the same semantics\n",
    "    targets = np.logical_xor(*inp_states).astype(int)\n",
    "\n",
    "    return inp_spikes, targets\n"
   ]
  },
  {
   "cell_type": "code",
   "execution_count": 5,
   "metadata": {},
   "outputs": [],
   "source": [
    "def inject_spikes(inp_spikes, neuron_targets):\n",
    "    spike_generators = nest.Create(\"spike_generator\", len(inp_spikes))\n",
    "\n",
    "    for sg, sp in zip(spike_generators, inp_spikes):\n",
    "        nest.SetStatus([sg], {'spike_times': sp})\n",
    "\n",
    "    delay = dict(distribution='normal_clipped', mu=10., sigma=20., low=3., high=200.)\n",
    "    C_inp = 100  # int(N_E / 20)  # number of outgoing input synapses per input neuron\n",
    "\n",
    "    nest.Connect(spike_generators, neuron_targets,\n",
    "                 {'rule': 'fixed_outdegree',\n",
    "                  'outdegree': C_inp},\n",
    "                 {'model': 'static_synapse',\n",
    "                  'delay': delay,\n",
    "                  'weight': {'distribution': 'uniform',\n",
    "                             'low': 2.5 * 10 * 5.0,\n",
    "                             'high': 7.5 * 10 * 5.0}\n",
    "                  })"
   ]
  },
  {
   "cell_type": "code",
   "execution_count": 6,
   "metadata": {},
   "outputs": [],
   "source": [
    "# Set parameters for the simulation kernel. print progress info during sim, use 11 local threads\n",
    "nest.SetKernelStatus({'print_time': True, 'local_num_threads': 11})\n",
    "sim_time = 200000\n",
    "\n",
    "# stimulus parameters\n",
    "stim_interval = 300\n",
    "stim_length = 50\n",
    "stim_rate = 200  # [1/s]\n",
    "\n",
    "readout_delay = 10\n",
    "\n",
    "# set discrete times to inject st\n",
    "stim_times = np.arange(stim_interval, sim_time - stim_length - readout_delay, stim_interval)\n",
    "readout_times = stim_times + stim_length + readout_delay\n",
    "\n",
    "def gen_stimulus_pattern(): return poisson_generator(stim_rate, t_stop=stim_length)\n",
    "\n",
    "inp_spikes, targets = generate_stimulus_xor(stim_times, gen_burst=gen_stimulus_pattern)\n",
    "\n",
    "# create liquid state machine object\n",
    "lsm = LSM(n_exc=1000, n_inh=250, n_rec=500)\n",
    "\n",
    "# inject input spikes onto input nodes\n",
    "inject_spikes(inp_spikes, lsm.inp_nodes)\n",
    "\n"
   ]
  },
  {
   "cell_type": "code",
   "execution_count": 7,
   "metadata": {},
   "outputs": [
    {
     "data": {
      "image/png": "[encoded data removed]",
      "text/plain": [
       "<Figure size 432x288 with 1 Axes>"
      ]
     },
     "metadata": {
      "needs_background": "light"
     },
     "output_type": "display_data"
    }
   ],
   "source": [
    "plot.eventplot(inp_spikes,linelengths=0.1)     \n",
    "plot.show()\n"
   ]
  },
  {
   "cell_type": "code",
   "execution_count": 175,
   "metadata": {},
   "outputs": [
    {
     "data": {
      "text/plain": [
       "list"
      ]
     },
     "execution_count": 175,
     "metadata": {},
     "output_type": "execute_result"
    }
   ],
   "source": [
    "inp_spikes\n"
   ]
  },
  {
   "cell_type": "code",
   "execution_count": null,
   "metadata": {},
   "outputs": [],
   "source": [
    "# performance of simulation\n",
    "\n",
    "# run simulation for some time\n",
    "nest.Simulate(sim_time)\n",
    "\n",
    "readout_times = readout_times[5:]\n",
    "targets = targets[5:]\n",
    "\n",
    "states = lsm.get_states(readout_times, tau=20)\n"
   ]
  },
  {
   "cell_type": "code",
   "execution_count": null,
   "metadata": {},
   "outputs": [],
   "source": [
    "# add constant component to states for bias (TODO why?)\n",
    "states = np.hstack([states, np.ones((np.size(states, 0), 1))])\n",
    "\n",
    "n_examples = np.size(targets, 0)\n",
    "n_examples_train = int(n_examples * 0.8)\n",
    "\n",
    "train_states, test_states = states[:n_examples_train, :], states[n_examples_train:, :]\n",
    "train_targets, test_targets = targets[:n_examples_train], targets[n_examples_train:]\n",
    "\n",
    "readout_weights = lsm.compute_readout_weights(train_states, train_targets, reg_fact=5.0)"
   ]
  },
  {
   "cell_type": "code",
   "execution_count": null,
   "metadata": {},
   "outputs": [],
   "source": [
    "def classify(prediction):\n",
    "        return (prediction >= 0.5).astype(int)"
   ]
  },
  {
   "cell_type": "code",
   "execution_count": null,
   "metadata": {},
   "outputs": [],
   "source": [
    "train_prediction = lsm.compute_prediction(train_states, readout_weights)\n",
    "train_results = classify(train_prediction)"
   ]
  },
  {
   "cell_type": "code",
   "execution_count": null,
   "metadata": {},
   "outputs": [],
   "source": [
    "test_prediction = lsm.compute_prediction(test_states, readout_weights)\n",
    "test_results = classify(test_prediction)"
   ]
  },
  {
   "cell_type": "code",
   "execution_count": null,
   "metadata": {},
   "outputs": [],
   "source": [
    "print(\"simulation time: {}ms\".format(sim_time))\n",
    "print(\"number of stimuli: {}\".format(len(stim_times)))\n",
    "print(\"size of each state: {}\".format(np.size(states, 1)))\n",
    "\n",
    "print(\"---------------------------------------\")\n",
    "\n",
    "def eval_prediction(prediction, targets, label):\n",
    "    n_fails = sum(abs(prediction - targets))\n",
    "    n_total = len(targets)\n",
    "    print(\"mismatched {} examples: {:d}/{:d} [{:.1f}%]\".format(label, n_fails, n_total, n_fails / n_total * 100))\n",
    "\n",
    "eval_prediction(train_results, train_targets, \"training\")\n",
    "eval_prediction(test_results, test_targets, \"test\")"
   ]
  },
  {
   "cell_type": "code",
   "execution_count": null,
   "metadata": {},
   "outputs": [],
   "source": []
  },
  {
   "cell_type": "code",
   "execution_count": null,
   "metadata": {},
   "outputs": [],
   "source": []
  },
  {
   "cell_type": "code",
   "execution_count": null,
   "metadata": {},
   "outputs": [],
   "source": []
  },
  {
   "cell_type": "code",
   "execution_count": null,
   "metadata": {},
   "outputs": [],
   "source": []
  },
  {
   "cell_type": "code",
   "execution_count": null,
   "metadata": {},
   "outputs": [],
   "source": []
  },
  {
   "cell_type": "code",
   "execution_count": null,
   "metadata": {},
   "outputs": [],
   "source": []
  },
  {
   "cell_type": "code",
   "execution_count": null,
   "metadata": {},
   "outputs": [],
   "source": [
    "# figuring stuff out"
   ]
  },
  {
   "cell_type": "code",
   "execution_count": 15,
   "metadata": {},
   "outputs": [],
   "source": [
    "\n",
    "n_inputs = 2\n",
    "gen_burst=gen_stimulus_pattern\n",
    "\n",
    "# generates input states for every input at every time\n",
    "inp_states = np.random.randint(2, size=(n_inputs, np.size(stim_times)))\n",
    "inp_spikes = []\n",
    "\n",
    "# \n",
    "for times in ma.masked_values(inp_states, 0) * stim_times:\n",
    "    \n",
    "    # for each input (neuron): generate spikes according to state (=1) and stimulus time-grid\n",
    "    spikes = np.concatenate([t + gen_burst() for t in times.compressed()])\n",
    "\n",
    "    # round to simulation precision\n",
    "    spikes *= 10\n",
    "    spikes = spikes.round() + 1.0\n",
    "    spikes = spikes / 10.0\n",
    "\n",
    "    inp_spikes.append(spikes)\n",
    "\n",
    "# astype(int) could be omitted, because False/True has the same semantics\n",
    "targets = np.logical_xor(*inp_states).astype(int)\n",
    "\n"
   ]
  },
  {
   "cell_type": "code",
   "execution_count": 127,
   "metadata": {},
   "outputs": [
    {
     "data": {
      "text/plain": [
       "[array([  1216.8,   1223.4,   1227.7, ..., 199540.1, 199540.6, 199542.4]),\n",
       " array([   303.2,    303.8,    305.9, ..., 199544.9, 199545.8, 199548.5])]"
      ]
     },
     "execution_count": 127,
     "metadata": {},
     "output_type": "execute_result"
    }
   ],
   "source": [
    "spikes = np.concatenate([t + gen_burst() for t in times.compressed()])\n",
    "inp_spikes"
   ]
  },
  {
   "cell_type": "code",
   "execution_count": 99,
   "metadata": {},
   "outputs": [
    {
     "data": {
      "image/png": "[encoded data removed]",
      "text/plain": [
       "<Figure size 432x288 with 1 Axes>"
      ]
     },
     "metadata": {
      "needs_background": "light"
     },
     "output_type": "display_data"
    }
   ],
   "source": [
    "targets.shape\n",
    "plot.eventplot(spikes,linelengths=0.1)\n",
    "plot.show()"
   ]
  },
  {
   "cell_type": "code",
   "execution_count": 120,
   "metadata": {},
   "outputs": [
    {
     "data": {
      "image/png": "[encoded data removed]",
      "text/plain": [
       "<Figure size 432x288 with 1 Axes>"
      ]
     },
     "metadata": {
      "needs_background": "light"
     },
     "output_type": "display_data"
    },
    {
     "data": {
      "text/plain": [
       "array([0, 1])"
      ]
     },
     "execution_count": 120,
     "metadata": {},
     "output_type": "execute_result"
    }
   ],
   "source": [
    "plot.eventplot(targets,linelengths=0.1) \n",
    "plot.show()\n",
    "# inp_states = inp_states[:,1:10]\n",
    "# np.logical_xor(*inp_states).astype(int)\n"
   ]
  },
  {
   "cell_type": "code",
   "execution_count": 111,
   "metadata": {},
   "outputs": [
    {
     "ename": "TypeError",
     "evalue": "type() takes 1 or 3 arguments",
     "output_type": "error",
     "traceback": [
      "\u001b[0;31m------------------------------------------------------------------------\u001b[0m",
      "\u001b[0;31mTypeError\u001b[0m                              Traceback (most recent call last)",
      "\u001b[0;32m<ipython-input-111-ed516100ead3>\u001b[0m in \u001b[0;36m<module>\u001b[0;34m()\u001b[0m\n\u001b[1;32m      6\u001b[0m \u001b[0minp_spikes\u001b[0m\u001b[0;34m[\u001b[0m\u001b[0;36m1\u001b[0m\u001b[0;34m]\u001b[0m\u001b[0;34m.\u001b[0m\u001b[0mshape\u001b[0m\u001b[0;34m\u001b[0m\u001b[0m\n\u001b[1;32m      7\u001b[0m \u001b[0;34m\u001b[0m\u001b[0m\n\u001b[0;32m----> 8\u001b[0;31m \u001b[0mprint\u001b[0m\u001b[0;34m(\u001b[0m\u001b[0mtype\u001b[0m\u001b[0;34m(\u001b[0m\u001b[0;34m*\u001b[0m\u001b[0minp_states\u001b[0m\u001b[0;34m[\u001b[0m\u001b[0;36m1\u001b[0m\u001b[0;34m]\u001b[0m\u001b[0;34m)\u001b[0m\u001b[0;34m)\u001b[0m\u001b[0;34m\u001b[0m\u001b[0m\n\u001b[0m\u001b[1;32m      9\u001b[0m \u001b[0;31m#\u001b[0m\u001b[0;34m\u001b[0m\u001b[0;34m\u001b[0m\u001b[0m\n",
      "\u001b[0;31mTypeError\u001b[0m: type() takes 1 or 3 arguments"
     ]
    }
   ],
   "source": [
    "# ax1 = sns.scatterplot(x=inp_states[0], y=inp_states[1],hue = targets)\n",
    "# times.compressed()\n",
    "\n",
    "#\n",
    "\n",
    "inp_spikes[1].shape\n",
    "\n",
    "# "
   ]
  },
  {
   "cell_type": "code",
   "execution_count": 17,
   "metadata": {},
   "outputs": [
    {
     "data": {
      "text/plain": [
       "<function list.index(value, start=0, stop=9223372036854775807, /)>"
      ]
     },
     "execution_count": 17,
     "metadata": {},
     "output_type": "execute_result"
    }
   ],
   "source": [
    "inp_spikes.index\n",
    "# ax1 = sns.scatterplot(x = inp_spikes.index, y = inp_spikes[1])"
   ]
  },
  {
   "cell_type": "code",
   "execution_count": 18,
   "metadata": {},
   "outputs": [
    {
     "data": {
      "image/png": "[encoded data removed]",
      "text/plain": [
       "<Figure size 432x288 with 1 Axes>"
      ]
     },
     "metadata": {
      "needs_background": "light"
     },
     "output_type": "display_data"
    }
   ],
   "source": [
    "\n",
    "plot.eventplot(gen_burst(),linelengths=0.1)     \n",
    "plot.show()"
   ]
  },
  {
   "cell_type": "code",
   "execution_count": 45,
   "metadata": {},
   "outputs": [],
   "source": [
    "# importing spike trains to \n",
    "\n",
    "import pandas as pd\n",
    "data4_090=pd.read_csv('/Users/calebparikh/Documents/dissertation/Moving bars/PVC-11/stimuli_gratings/4_090.csv', sep=',',header=None)\n",
    "\n",
    "\n",
    "data4_090.values\n",
    "data4_090.head()\n",
    "data4_090.shape\n",
    "\n",
    "data4_000=pd.read_csv('/Users/calebparikh/Documents/dissertation/Moving bars/PVC-11/stimuli_gratings/4_000.csv', sep=',',header=None)\n",
    "data4_180=pd.read_csv('/Users/calebparikh/Documents/dissertation/Moving bars/PVC-11/stimuli_gratings/4_180.csv', sep=',',header=None)\n",
    "data4_270=pd.read_csv('/Users/calebparikh/Documents/dissertation/Moving bars/PVC-11/stimuli_gratings/4_270.csv', sep=',',header=None)\n",
    "\n",
    "\n"
   ]
  },
  {
   "cell_type": "code",
   "execution_count": 37,
   "metadata": {},
   "outputs": [],
   "source": [
    "# function that generates spike patterns using poisson distribution based on spike rate\n",
    "\n",
    "def gen_stimulus_variable_pattern(rate): \n",
    "    return poisson_generator(rate, t_stop=stim_length)\n",
    "\n",
    "# plot.eventplot(gen_stimulus_variable_pattern(5),linelengths=0.1)     \n",
    "# plot.show()\n",
    "# plot.eventplot(gen_stimulus_variable_pattern(50),linelengths=0.1)     \n",
    "# plot.show()\n",
    "# plot.eventplot(gen_stimulus_variable_pattern(5000),linelengths=0.1)     \n",
    "# plot.show()"
   ]
  },
  {
   "cell_type": "code",
   "execution_count": 40,
   "metadata": {},
   "outputs": [],
   "source": [
    "# generate spike trains for all neurons with movie in a direction \n",
    "# function takes a dataframe with neuronal patterns for a certain direction and resturnse list of arrays for train for each neuron\n",
    "\n",
    "def directedSpikes(df):\n",
    "    temp = np.array([])\n",
    "    trains = []\n",
    "\n",
    "    for j in range(len(df)):\n",
    "        neuron = df.iloc[j, :].values\n",
    "        for i in range(len(neuron)):\n",
    "            temp = np.append(temp,gen_stimulus_variable_pattern(neuron[i]))\n",
    "        trains.append(temp)\n",
    "    return trains\n",
    "        \n",
    "        \n",
    "        \n",
    "#     \n",
    "# "
   ]
  },
  {
   "cell_type": "code",
   "execution_count": 46,
   "metadata": {},
   "outputs": [],
   "source": [
    "train = directedSpikes(df)\n",
    "\n",
    "train1 = directedSpikes(data4_000)\n",
    "train2 = directedSpikes(data4_090)\n",
    "train3 = directedSpikes(data4_180)\n",
    "train4 = directedSpikes(data4_270)"
   ]
  },
  {
   "cell_type": "code",
   "execution_count": 58,
   "metadata": {},
   "outputs": [],
   "source": [
    "trainCumulative = []\n",
    "for i in range(len(train1)):\n",
    "    trainCumulative.append(np.concatenate((train1[i], train2[i],train3[i],train4[i]), axis=0))\n",
    "    \n",
    "    "
   ]
  },
  {
   "cell_type": "code",
   "execution_count": 72,
   "metadata": {},
   "outputs": [
    {
     "data": {
      "image/png": "[encoded data removed]",
      "text/plain": [
       "<Figure size 432x288 with 1 Axes>"
      ]
     },
     "metadata": {
      "needs_background": "light"
     },
     "output_type": "display_data"
    },
    {
     "data": {
      "text/plain": [
       "(658,)"
      ]
     },
     "execution_count": 72,
     "metadata": {},
     "output_type": "execute_result"
    }
   ],
   "source": [
    "# i = 1\n",
    "# trainCumulative = []\n",
    "# trainCumulative.append(np.concatenate((train1[i], train2[i],train3[i],train4[i]), axis=0))\n",
    "len(trainCumulative)\n",
    "plot.eventplot(trainCumulative,linelengths=0.1)     \n",
    "plot.show()\n",
    "train1[1].shape\n",
    "\n"
   ]
  },
  {
   "cell_type": "code",
   "execution_count": 79,
   "metadata": {},
   "outputs": [
    {
     "data": {
      "image/png": "[encoded data removed]",
      "text/plain": [
       "<Figure size 432x288 with 1 Axes>"
      ]
     },
     "metadata": {
      "needs_background": "light"
     },
     "output_type": "display_data"
    },
    {
     "ename": "AttributeError",
     "evalue": "'list' object has no attribute 'shape'",
     "output_type": "error",
     "traceback": [
      "\u001b[0;31m------------------------------------------------------------------------\u001b[0m",
      "\u001b[0;31mAttributeError\u001b[0m                         Traceback (most recent call last)",
      "\u001b[0;32m<ipython-input-79-715d24e7e1d0>\u001b[0m in \u001b[0;36m<module>\u001b[0;34m()\u001b[0m\n\u001b[1;32m      1\u001b[0m \u001b[0mplot\u001b[0m\u001b[0;34m.\u001b[0m\u001b[0meventplot\u001b[0m\u001b[0;34m(\u001b[0m\u001b[0mtrain1\u001b[0m\u001b[0;34m[\u001b[0m\u001b[0;36m1\u001b[0m\u001b[0;34m]\u001b[0m\u001b[0;34m[\u001b[0m\u001b[0;36m1\u001b[0m\u001b[0;34m:\u001b[0m\u001b[0;36m5\u001b[0m\u001b[0;34m]\u001b[0m\u001b[0;34m,\u001b[0m\u001b[0mlinelengths\u001b[0m\u001b[0;34m=\u001b[0m\u001b[0;36m0.1\u001b[0m\u001b[0;34m)\u001b[0m\u001b[0;34m\u001b[0m\u001b[0m\n\u001b[1;32m      2\u001b[0m \u001b[0mplot\u001b[0m\u001b[0;34m.\u001b[0m\u001b[0mshow\u001b[0m\u001b[0;34m(\u001b[0m\u001b[0;34m)\u001b[0m\u001b[0;34m\u001b[0m\u001b[0m\n\u001b[0;32m----> 3\u001b[0;31m \u001b[0mtrain1\u001b[0m\u001b[0;34m[\u001b[0m\u001b[0;34m:\u001b[0m\u001b[0;34m]\u001b[0m\u001b[0;34m.\u001b[0m\u001b[0mshape\u001b[0m\u001b[0;34m\u001b[0m\u001b[0m\n\u001b[0m",
      "\u001b[0;31mAttributeError\u001b[0m: 'list' object has no attribute 'shape'"
     ]
    }
   ],
   "source": []
  },
  {
   "cell_type": "code",
   "execution_count": null,
   "metadata": {},
   "outputs": [],
   "source": []
  },
  {
   "cell_type": "code",
   "execution_count": null,
   "metadata": {},
   "outputs": [],
   "source": []
  },
  {
   "cell_type": "code",
   "execution_count": 42,
   "metadata": {},
   "outputs": [
    {
     "data": {
      "image/png": "[encoded data removed]",
      "text/plain": [
       "<Figure size 432x288 with 1 Axes>"
      ]
     },
     "metadata": {
      "needs_background": "light"
     },
     "output_type": "display_data"
    }
   ],
   "source": [
    "plot.eventplot(trains,linelengths=0.1)     \n",
    "plot.show()"
   ]
  },
  {
   "cell_type": "code",
   "execution_count": 159,
   "metadata": {},
   "outputs": [
    {
     "data": {
      "text/plain": [
       "array([ 7.68975543, 11.74845156, 24.79537889, 25.90181267, 31.93210292,\n",
       "       37.20277634, 41.59909695, 41.9189001 ,  1.7751941 ,  2.3087038 ,\n",
       "        3.13374795, 27.8669721 , 35.64358017, 48.32251521,  4.00298678,\n",
       "        6.32282568, 11.74618296, 15.2022439 , 19.80666675, 21.68044226,\n",
       "       32.39376589, 36.6695276 , 45.18527069,  2.25977154, 12.03267654,\n",
       "       16.12871032, 23.74545261, 25.36210865, 25.71761606, 29.53895374,\n",
       "       45.73889668, 46.61668795, 49.58667147,  5.06434851,  5.37113203,\n",
       "       15.35369805, 23.71552885, 25.11663352, 27.8476312 , 28.50827739,\n",
       "       29.55083137, 34.98734046, 38.64752877, 41.874158  ])"
      ]
     },
     "execution_count": 159,
     "metadata": {},
     "output_type": "execute_result"
    }
   ],
   "source": [
    "# print(train)\n",
    "range(len(df))\n",
    "train.shape\n",
    "temp = np.append(temp,gen_stimulus_variable_pattern(neuron[2]))\n",
    "\n",
    "temp.shape\n",
    "temp"
   ]
  },
  {
   "cell_type": "code",
   "execution_count": 96,
   "metadata": {},
   "outputs": [
    {
     "data": {
      "image/png": "[encoded data removed]",
      "text/plain": [
       "<Figure size 432x288 with 1 Axes>"
      ]
     },
     "metadata": {
      "needs_background": "light"
     },
     "output_type": "display_data"
    }
   ],
   "source": [
    "plot.eventplot(train,linelengths=0.1)     \n",
    "plot.show()"
   ]
  },
  {
   "cell_type": "code",
   "execution_count": null,
   "metadata": {},
   "outputs": [],
   "source": []
  },
  {
   "cell_type": "code",
   "execution_count": null,
   "metadata": {},
   "outputs": [],
   "source": []
  },
  {
   "cell_type": "code",
   "execution_count": null,
   "metadata": {},
   "outputs": [],
   "source": []
  },
  {
   "cell_type": "code",
   "execution_count": null,
   "metadata": {},
   "outputs": [],
   "source": []
  }
 ],
 "metadata": {
  "kernelspec": {
   "display_name": "Python 3",
   "language": "python",
   "name": "python3"
  },
  "language_info": {
   "codemirror_mode": {
    "name": "ipython",
    "version": 3
   },
   "file_extension": ".py",
   "mimetype": "text/x-python",
   "name": "python",
   "nbconvert_exporter": "python",
   "pygments_lexer": "ipython3",
   "version": "3.7.0"
  }
 },
 "nbformat": 4,
 "nbformat_minor": 2
}
