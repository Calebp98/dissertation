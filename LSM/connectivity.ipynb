{
 "cells": [
  {
   "cell_type": "code",
   "execution_count": 2,
   "metadata": {},
   "outputs": [],
   "source": [
    "import nest\n",
    "import numpy as np\n",
    "import numpy.ma as ma\n",
    "\n",
    "from lsm.nest import LSM\n",
    "from lsm.utils import poisson_generator\n",
    "\n",
    "import matplotlib.pyplot as plot\n",
    "\n",
    "# convention: all times in [ms], except stated otherwise\n",
    "\n",
    "\n",
    "def generate_stimulus_xor(stim_times, gen_burst, n_inputs=2):\n",
    "    inp_states = np.random.randint(2, size=(n_inputs, np.size(stim_times)))\n",
    "    inp_spikes = []\n",
    "\n",
    "    for times in ma.masked_values(inp_states, 0) * stim_times:\n",
    "        # for each input (neuron): generate spikes according to state (=1) and stimulus time-grid\n",
    "        spikes = np.concatenate([t + gen_burst() for t in times.compressed()])\n",
    "\n",
    "        # round to simulation precision\n",
    "        spikes *= 10\n",
    "        spikes = spikes.round() + 1.0\n",
    "        spikes = spikes / 10.0\n",
    "\n",
    "        inp_spikes.append(spikes)\n",
    "\n",
    "    # astype(int) could be omitted, because False/True has the same semantics\n",
    "    targets = np.logical_xor(*inp_states).astype(int)\n",
    "    print(inp_states.shape)\n",
    "    return inp_spikes, targets\n",
    "\n",
    "\n",
    "def generate_stimulus_olf(stim_times, gen_burst, n_inputs=2):\n",
    "    inp_states = np.random.randint(2, size=(n_inputs, np.size(stim_times)))\n",
    "    inp_spikes = []\n",
    "\n",
    "    for times in ma.masked_values(inp_states, 0) * stim_times:\n",
    "        # for each input (neuron): generate spikes according to state (=1) and stimulus time-grid\n",
    "        spikes = np.concatenate([t + gen_burst() for t in times.compressed()])\n",
    "\n",
    "        # round to simulation precision\n",
    "        spikes *= 10\n",
    "        spikes = spikes.round() + 1.0\n",
    "        spikes = spikes / 10.0\n",
    "\n",
    "        inp_spikes.append(spikes)\n",
    "\n",
    "    # astype(int) could be omitted, because False/True has the same semantics\n",
    "#     targets = inp_states[0]\n",
    "    targets = np.logical_and(*inp_states).astype(int)\n",
    "    bound = 8\n",
    "    for i in range(len(targets)):\n",
    "        if np.random.randint(1,bound)%bound-1 == 0:\n",
    "            targets[i] = np.random.randint(0,2)\n",
    "            \n",
    "    print(inp_states.shape)\n",
    "    return inp_spikes, targets\n",
    "\n",
    "\n",
    "def inject_spikes(inp_spikes, neuron_targets):\n",
    "    spike_generators = nest.Create(\"spike_generator\", len(inp_spikes))\n",
    "\n",
    "    for sg, sp in zip(spike_generators, inp_spikes):\n",
    "        nest.SetStatus([sg], {'spike_times': sp})\n",
    "\n",
    "    delay = dict(distribution='normal_clipped', mu=10., sigma=20., low=3., high=200.)\n",
    "    C_inp = 100  # int(N_E / 20)  # number of outgoing input synapses per input neuron\n",
    "\n",
    "    nest.Connect(spike_generators, neuron_targets,\n",
    "                 {'rule': 'fixed_outdegree',\n",
    "                  'outdegree': C_inp},\n",
    "                 {'model': 'static_synapse',\n",
    "                  'delay': delay,\n",
    "                  'weight': {'distribution': 'uniform',\n",
    "                             'low': 2.5 * 10 * 5.0,\n",
    "                             'high': 7.5 * 10 * 5.0}\n",
    "                  })\n",
    "\n",
    "\n",
    "# nest.SetKernelStatus({'print_time': True, 'local_num_threads': 11})"
   ]
  },
  {
   "cell_type": "code",
   "execution_count": 2,
   "metadata": {},
   "outputs": [
    {
     "name": "stdout",
     "output_type": "stream",
     "text": [
      "(2, 666)\n",
      "LSM constructed\n"
     ]
    }
   ],
   "source": [
    "sim_time = 200000\n",
    "\n",
    "# stimulus\n",
    "stim_interval = 300\n",
    "stim_length = 50\n",
    "stim_rate = 200  # [1/s]\n",
    "\n",
    "readout_delay = 10\n",
    "\n",
    "stim_times = np.arange(stim_interval, sim_time - stim_length - readout_delay, stim_interval)\n",
    "readout_times = stim_times + stim_length + readout_delay\n",
    "\n",
    "def gen_stimulus_pattern(): return poisson_generator(stim_rate, t_stop=stim_length)\n",
    "\n",
    "inp_spikes, targets = generate_stimulus_olf(stim_times, gen_burst=gen_stimulus_pattern)\n",
    "\n",
    "lsm = LSM(n_exc=1000, n_inh=250, n_rec=500)\n",
    "\n",
    "inject_spikes(inp_spikes, lsm.inp_nodes)\n",
    "\n",
    "# nest.SetKernelStatus({'print_time': True, 'local_num_threads': 11})"
   ]
  },
  {
   "cell_type": "code",
   "execution_count": 3,
   "metadata": {},
   "outputs": [],
   "source": [
    "nest.Simulate(sim_time)"
   ]
  },
  {
   "cell_type": "code",
   "execution_count": 4,
   "metadata": {},
   "outputs": [],
   "source": [
    "\n",
    "readout_times = readout_times[5:]\n",
    "targets = targets[5:]\n",
    "\n",
    "states = lsm.get_states(readout_times, tau=20)\n",
    "\n",
    "# add constant component to states for bias (TODO why?)\n",
    "states = np.hstack([states, np.ones((np.size(states, 0), 1))])\n",
    "\n",
    "n_examples = np.size(targets, 0)\n",
    "n_examples_train = int(n_examples * 0.8)\n",
    "\n",
    "train_states, test_states = states[:n_examples_train, :], states[n_examples_train:, :]\n",
    "train_targets, test_targets = targets[:n_examples_train], targets[n_examples_train:]\n",
    "\n",
    "readout_weights = lsm.compute_readout_weights(train_states, train_targets, reg_fact=5.0)"
   ]
  },
  {
   "cell_type": "code",
   "execution_count": 5,
   "metadata": {},
   "outputs": [
    {
     "name": "stdout",
     "output_type": "stream",
     "text": [
      "simulation time: 200000ms\n",
      "number of stimuli: 666\n",
      "size of each state: 501\n",
      "---------------------------------------\n",
      "mismatched training examples: 5/528 [0.9%]\n",
      "mismatched test examples: 20/133 [15.0%]\n"
     ]
    }
   ],
   "source": [
    "def classify(prediction):\n",
    "    return (prediction >= 0.5).astype(int)\n",
    "\n",
    "train_prediction = lsm.compute_prediction(train_states, readout_weights)\n",
    "train_results = classify(train_prediction)\n",
    "\n",
    "test_prediction = lsm.compute_prediction(test_states, readout_weights)\n",
    "test_results = classify(test_prediction)\n",
    "\n",
    "print(\"simulation time: {}ms\".format(sim_time))\n",
    "print(\"number of stimuli: {}\".format(len(stim_times)))\n",
    "print(\"size of each state: {}\".format(np.size(states, 1)))\n",
    "\n",
    "print(\"---------------------------------------\")\n",
    "\n",
    "def eval_prediction(prediction, targets, label):\n",
    "    n_fails = sum(abs(prediction - targets))\n",
    "    n_total = len(targets)\n",
    "    print(\"mismatched {} examples: {:d}/{:d} [{:.1f}%]\".format(label, n_fails, n_total, n_fails / n_total * 100))\n",
    "\n",
    "eval_prediction(train_results, train_targets, \"training\")\n",
    "eval_prediction(test_results, test_targets, \"test\")"
   ]
  },
  {
   "cell_type": "markdown",
   "metadata": {},
   "source": [
    "bound = 3\n",
    "\n",
    "\n",
    "## w_scale = 1000.00\n",
    "mismatched training examples: 0/528 [0.0%]\n",
    "mismatched test examples: 64/133 [48.1%]\n",
    "\n",
    "\n",
    "## w_scale = 100.00\n",
    "mismatched training examples: 0/528 [0.0%]\n",
    "mismatched test examples: 59/133 [44.4%]\n",
    "\n",
    "\n",
    "## w_scale = 10.00\n",
    "mismatched training examples: 204/528 [38.6%]\n",
    "mismatched test examples: 59/133 [44.4%]\n",
    "\n",
    "## w_scale = 5\n",
    "mismatched training examples: 44/528 [8.3%]\n",
    "mismatched test examples: 45/133 [33.8%]\n",
    "\n",
    "\n",
    "## w_scale = 1.00\n",
    "mismatched training examples: 95/528 [18.0%]\n",
    "mismatched test examples: 41/133 [30.8%]\n",
    "\n",
    "## w_scale = 0.10\n",
    "mismatched training examples: 107/528 [20.3%]\n",
    "mismatched test examples: 39/133 [29.3%]\n",
    "\n",
    "##  w_scale = 0.010\n",
    "mismatched training examples: 105/528 [19.9%]\n",
    "mismatched test examples: 38/133 [28.6%]\n",
    "\n",
    "##  w_scale = 0.00010\n",
    "mismatched training examples: 106/528 [20.1%]\n",
    "mismatched test examples: 45/133 [33.8%]\n",
    "\n"
   ]
  },
  {
   "cell_type": "code",
   "execution_count": 6,
   "metadata": {},
   "outputs": [
    {
     "name": "stdout",
     "output_type": "stream",
     "text": [
      "a\n"
     ]
    }
   ],
   "source": [
    "print(\"a\")"
   ]
  },
  {
   "cell_type": "code",
   "execution_count": 7,
   "metadata": {},
   "outputs": [
    {
     "data": {
      "image/png": "[encoded data removed]",
      "text/plain": [
       "<Figure size 432x288 with 1 Axes>"
      ]
     },
     "metadata": {
      "needs_background": "light"
     },
     "output_type": "display_data"
    }
   ],
   "source": [
    "w = [1000,100,10,1,0.1,0.01,0.0001]\n",
    "test = [0,0,38.6,18,20.3,19.9,20.1]\n",
    "train = [48.1,44.4,44.4,30.8,29.3,28.6,33.8]\n",
    "\n",
    "w = np.log10(w)\n",
    "test = [100 - i for i in test]\n",
    "train = [100 - i for i in train]\n",
    "\n",
    "plot.plot(w,test)\n",
    "plot.plot(w,train)\n",
    "plot.legend([\"Test Data\",\"Train Data\"])\n",
    "plot.xlabel(\"Strength of Synapses in Reservoir ($10^x$)\")\n",
    "plot.ylabel(\"Percentage of Correctly Classified Odours\")\n",
    "plot.show()\n",
    "\n"
   ]
  },
  {
   "cell_type": "code",
   "execution_count": 8,
   "metadata": {},
   "outputs": [
    {
     "data": {
      "text/plain": [
       "array([1., 2., 1.])"
      ]
     },
     "execution_count": 8,
     "metadata": {},
     "output_type": "execute_result"
    }
   ],
   "source": [
    "np.log10([10,100,10])"
   ]
  },
  {
   "cell_type": "markdown",
   "metadata": {},
   "source": [
    "next investigated modifying the sigma argument in the distribution of weights\n",
    "\n",
    "### 0.0\n",
    "mismatched training examples: 1/528 [0.2%]\n",
    "\n",
    "mismatched test examples: 15/133 [11.3%]\n",
    "\n",
    "### 0.125\n",
    "mismatched training examples: 2/528 [0.4%]\n",
    "\n",
    "mismatched test examples: 13/133 [9.8%]\n",
    "\n",
    "\n",
    "### 0.25\n",
    "mismatched training examples: 4/528 [0.8%]\n",
    "\n",
    "mismatched test examples: 20/133 [15.0%]\n",
    "\n",
    "\n",
    "### 0.375\n",
    "mismatched training examples: 2/528 [0.4%]\n",
    "\n",
    "mismatched test examples: 15/133 [11.3%]\n",
    "\n",
    "\n",
    "\n",
    "### 0.5\n",
    "mismatched training examples: 4/528 [0.8%]\n",
    "\n",
    "mismatched test examples: 17/133 [12.8%]\n",
    "\n",
    "### 0.75\n",
    "mismatched training examples: 5/528 [0.9%]\n",
    "mismatched test examples: 20/133 [15.0%]\n",
    "\n",
    "\n",
    "\n",
    "### 1.0\n",
    "mismatched training examples: 6/528 [1.1%]\n",
    "\n",
    "mismatched test examples: 15/133 [11.3%]"
   ]
  },
  {
   "cell_type": "code",
   "execution_count": 3,
   "metadata": {},
   "outputs": [
    {
     "data": {
      "image/png": "[encoded data removed]",
      "text/plain": [
       "<Figure size 432x288 with 1 Axes>"
      ]
     },
     "metadata": {
      "needs_background": "light"
     },
     "output_type": "display_data"
    }
   ],
   "source": [
    "w = [0,0.125,0.25,0.375,0.5,0.75,1]\n",
    "test = [11.3,9.8,15,11.3,12.8,15.0,11.3]\n",
    "train = [0.2,0.4,0.8,0.4,0.8,0.9,1.1]\n",
    "\n",
    "# w = np.log10(w)\n",
    "test = [(100 - i) for i in test]\n",
    "train = [(100 - i)for i in train]\n",
    "\n",
    "trainNorm = train/np.linalg.norm(train)\n",
    "testNorm = test/np.linalg.norm(test)\n",
    "\n",
    "plot.plot(w,trainNorm)\n",
    "plot.plot(w,testNorm)\n",
    "plot.legend([\"Test Data\",\"Train Data\"])\n",
    "plot.xlabel(\"Standard Deviation of Connection Strength in Reservoir ($10^x$)\")\n",
    "plot.ylabel(\"Normalised Proportion of Correctly Classified Odours\")\n",
    "plot.show()"
   ]
  },
  {
   "cell_type": "code",
   "execution_count": 11,
   "metadata": {},
   "outputs": [
    {
     "data": {
      "text/plain": [
       "[7.178034682080924,\n",
       " 7.299421965317919,\n",
       " 6.878612716763006,\n",
       " 7.178034682080924,\n",
       " 7.05664739884393,\n",
       " 6.878612716763006,\n",
       " 7.178034682080924]"
      ]
     },
     "execution_count": 11,
     "metadata": {},
     "output_type": "execute_result"
    }
   ],
   "source": [
    "test"
   ]
  },
  {
   "cell_type": "code",
   "execution_count": 19,
   "metadata": {},
   "outputs": [],
   "source": [
    "trainNorm = np.linalg.norm(train)\n",
    "testNorm = np.linalg.norm(test)"
   ]
  },
  {
   "cell_type": "code",
   "execution_count": 22,
   "metadata": {},
   "outputs": [
    {
     "data": {
      "text/plain": [
       "array([0.37970199, 0.37894106, 0.37741921, 0.37894106, 0.37741921,\n",
       "       0.37703875, 0.37627782])"
      ]
     },
     "execution_count": 22,
     "metadata": {},
     "output_type": "execute_result"
    }
   ],
   "source": [
    "train/trainNorm\n"
   ]
  },
  {
   "cell_type": "code",
   "execution_count": 27,
   "metadata": {},
   "outputs": [
    {
     "data": {
      "text/plain": [
       "[0.382437912550612,\n",
       " 0.3889052955137001,\n",
       " 0.3664850345749946,\n",
       " 0.382437912550612,\n",
       " 0.37597052958752386,\n",
       " 0.3664850345749946,\n",
       " 0.382437912550612]"
      ]
     },
     "execution_count": 27,
     "metadata": {},
     "output_type": "execute_result"
    }
   ],
   "source": [
    "list(test/testNorm)"
   ]
  },
  {
   "cell_type": "code",
   "execution_count": 24,
   "metadata": {},
   "outputs": [
    {
     "data": {
      "text/plain": [
       "[0, 0.125, 0.25, 0.375, 0.5, 0.75, 1]"
      ]
     },
     "execution_count": 24,
     "metadata": {},
     "output_type": "execute_result"
    }
   ],
   "source": [
    "w"
   ]
  },
  {
   "cell_type": "code",
   "execution_count": 30,
   "metadata": {},
   "outputs": [
    {
     "data": {
      "text/plain": [
       "262.83770657955455"
      ]
     },
     "execution_count": 30,
     "metadata": {},
     "output_type": "execute_result"
    }
   ],
   "source": [
    "trainNorm"
   ]
  },
  {
   "cell_type": "code",
   "execution_count": null,
   "metadata": {},
   "outputs": [],
   "source": []
  }
 ],
 "metadata": {
  "kernelspec": {
   "display_name": "Python 3",
   "language": "python",
   "name": "python3"
  },
  "language_info": {
   "codemirror_mode": {
    "name": "ipython",
    "version": 3
   },
   "file_extension": ".py",
   "mimetype": "text/x-python",
   "name": "python",
   "nbconvert_exporter": "python",
   "pygments_lexer": "ipython3",
   "version": "3.7.0"
  }
 },
 "nbformat": 4,
 "nbformat_minor": 2
}
