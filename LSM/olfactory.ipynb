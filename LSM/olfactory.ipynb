{
 "cells": [
  {
   "cell_type": "code",
   "execution_count": 2,
   "metadata": {},
   "outputs": [],
   "source": [
    "import nest\n",
    "import numpy as np\n",
    "import numpy.ma as ma\n",
    "\n",
    "from lsm.nest import LSM\n",
    "from lsm.utils import poisson_generator\n",
    "\n",
    "import matplotlib.pyplot as plot\n",
    "\n",
    "# convention: all times in [ms], except stated otherwise\n",
    "\n",
    "\n",
    "def generate_stimulus_xor(stim_times, gen_burst, n_inputs=2):\n",
    "    inp_states = np.random.randint(2, size=(n_inputs, np.size(stim_times)))\n",
    "    inp_spikes = []\n",
    "\n",
    "    for times in ma.masked_values(inp_states, 0) * stim_times:\n",
    "        # for each input (neuron): generate spikes according to state (=1) and stimulus time-grid\n",
    "        spikes = np.concatenate([t + gen_burst() for t in times.compressed()])\n",
    "\n",
    "        # round to simulation precision\n",
    "        spikes *= 10\n",
    "        spikes = spikes.round() + 1.0\n",
    "        spikes = spikes / 10.0\n",
    "\n",
    "        inp_spikes.append(spikes)\n",
    "\n",
    "    # astype(int) could be omitted, because False/True has the same semantics\n",
    "    targets = np.logical_xor(*inp_states).astype(int)\n",
    "    print(inp_states.shape)\n",
    "    return inp_spikes, targets\n",
    "\n",
    "\n",
    "def generate_stimulus_olf(stim_times, gen_burst, n_inputs=2):\n",
    "    inp_states = np.random.randint(2, size=(n_inputs, np.size(stim_times)))\n",
    "    inp_spikes = []\n",
    "\n",
    "    for times in ma.masked_values(inp_states, 0) * stim_times:\n",
    "        # for each input (neuron): generate spikes according to state (=1) and stimulus time-grid\n",
    "        spikes = np.concatenate([t + gen_burst() for t in times.compressed()])\n",
    "\n",
    "        # round to simulation precision\n",
    "        spikes *= 10\n",
    "        spikes = spikes.round() + 1.0\n",
    "        spikes = spikes / 10.0\n",
    "\n",
    "        inp_spikes.append(spikes)\n",
    "\n",
    "    # astype(int) could be omitted, because False/True has the same semantics\n",
    "#     targets = inp_states[0]\n",
    "    targets = np.logical_and(*inp_states).astype(int)\n",
    "    bound = 5\n",
    "    for i in range(len(targets)):\n",
    "        if np.random.randint(1,bound)%bound-1 == 0:\n",
    "            targets[i] = np.random.randint(0,2)\n",
    "            \n",
    "    print(inp_states.shape)\n",
    "    return inp_spikes, targets\n",
    "\n",
    "\n",
    "def inject_spikes(inp_spikes, neuron_targets):\n",
    "    spike_generators = nest.Create(\"spike_generator\", len(inp_spikes))\n",
    "\n",
    "    for sg, sp in zip(spike_generators, inp_spikes):\n",
    "        nest.SetStatus([sg], {'spike_times': sp})\n",
    "\n",
    "    delay = dict(distribution='normal_clipped', mu=10., sigma=20., low=3., high=200.)\n",
    "    C_inp = 100  # int(N_E / 20)  # number of outgoing input synapses per input neuron\n",
    "\n",
    "    nest.Connect(spike_generators, neuron_targets,\n",
    "                 {'rule': 'fixed_outdegree',\n",
    "                  'outdegree': C_inp},\n",
    "                 {'model': 'static_synapse',\n",
    "                  'delay': delay,\n",
    "                  'weight': {'distribution': 'uniform',\n",
    "                             'low': 2.5 * 10 * 5.0,\n",
    "                             'high': 7.5 * 10 * 5.0}\n",
    "                  })\n",
    "\n",
    "\n",
    "# nest.SetKernelStatus({'print_time': True, 'local_num_threads': 11})"
   ]
  },
  {
   "cell_type": "code",
   "execution_count": 2,
   "metadata": {},
   "outputs": [
    {
     "name": "stdout",
     "output_type": "stream",
     "text": [
      "(2, 666)\n"
     ]
    }
   ],
   "source": [
    "sim_time = 200000\n",
    "\n",
    "# stimulus\n",
    "stim_interval = 300\n",
    "stim_length = 50\n",
    "stim_rate = 200  # [1/s]\n",
    "\n",
    "readout_delay = 10\n",
    "\n",
    "stim_times = np.arange(stim_interval, sim_time - stim_length - readout_delay, stim_interval)\n",
    "readout_times = stim_times + stim_length + readout_delay\n",
    "\n",
    "def gen_stimulus_pattern(): return poisson_generator(stim_rate, t_stop=stim_length)\n",
    "\n",
    "inp_spikes, targets = generate_stimulus_olf(stim_times, gen_burst=gen_stimulus_pattern)\n",
    "\n",
    "lsm = LSM(n_exc=1000, n_inh=250, n_rec=500)\n",
    "\n",
    "inject_spikes(inp_spikes, lsm.inp_nodes)\n",
    "\n",
    "# nest.SetKernelStatus({'print_time': True, 'local_num_threads': 11})"
   ]
  },
  {
   "cell_type": "code",
   "execution_count": 3,
   "metadata": {},
   "outputs": [
    {
     "name": "stdout",
     "output_type": "stream",
     "text": [
      "(2, 666)\n",
      "(3, 666)\n",
      "2\n",
      "3\n",
      "3557\n",
      "3242\n",
      "1\n",
      "1\n"
     ]
    }
   ],
   "source": [
    "inp, tar = generate_stimulus_xor(stim_times, gen_burst=gen_stimulus_pattern)\n",
    "inp2, tar2 = generate_stimulus_olf(stim_times, gen_burst=gen_stimulus_pattern, n_inputs=3)\n",
    "\n",
    "print(len(inp))\n",
    "print(len(inp2))\n",
    "print(inp[0].size)\n",
    "print(inp2[0].size)\n",
    "print(tar[0].size)\n",
    "print(tar2[0].size)\n",
    "\n",
    "# tar2\n",
    "# "
   ]
  },
  {
   "cell_type": "code",
   "execution_count": 4,
   "metadata": {},
   "outputs": [],
   "source": [
    "nest.Simulate(sim_time)"
   ]
  },
  {
   "cell_type": "code",
   "execution_count": 5,
   "metadata": {},
   "outputs": [],
   "source": [
    "\n",
    "readout_times = readout_times[5:]\n",
    "targets = targets[5:]\n",
    "\n",
    "states = lsm.get_states(readout_times, tau=20)\n",
    "\n",
    "# add constant component to states for bias (TODO why?)\n",
    "states = np.hstack([states, np.ones((np.size(states, 0), 1))])\n",
    "\n",
    "n_examples = np.size(targets, 0)\n",
    "n_examples_train = int(n_examples * 0.8)\n",
    "\n",
    "train_states, test_states = states[:n_examples_train, :], states[n_examples_train:, :]\n",
    "train_targets, test_targets = targets[:n_examples_train], targets[n_examples_train:]\n",
    "\n",
    "readout_weights = lsm.compute_readout_weights(train_states, train_targets, reg_fact=5.0)"
   ]
  },
  {
   "cell_type": "code",
   "execution_count": 6,
   "metadata": {},
   "outputs": [
    {
     "name": "stdout",
     "output_type": "stream",
     "text": [
      "simulation time: 200000ms\n",
      "number of stimuli: 666\n",
      "size of each state: 501\n",
      "---------------------------------------\n",
      "mismatched training examples: 2/528 [0.4%]\n",
      "mismatched test examples: 32/133 [24.1%]\n"
     ]
    }
   ],
   "source": [
    "def classify(prediction):\n",
    "    return (prediction >= 0.5).astype(int)\n",
    "\n",
    "train_prediction = lsm.compute_prediction(train_states, readout_weights)\n",
    "train_results = classify(train_prediction)\n",
    "\n",
    "test_prediction = lsm.compute_prediction(test_states, readout_weights)\n",
    "test_results = classify(test_prediction)\n",
    "\n",
    "print(\"simulation time: {}ms\".format(sim_time))\n",
    "print(\"number of stimuli: {}\".format(len(stim_times)))\n",
    "print(\"size of each state: {}\".format(np.size(states, 1)))\n",
    "\n",
    "print(\"---------------------------------------\")\n",
    "\n",
    "def eval_prediction(prediction, targets, label):\n",
    "    n_fails = sum(abs(prediction - targets))\n",
    "    n_total = len(targets)\n",
    "    print(\"mismatched {} examples: {:d}/{:d} [{:.1f}%]\".format(label, n_fails, n_total, n_fails / n_total * 100))\n",
    "\n",
    "eval_prediction(train_results, train_targets, \"training\")\n",
    "eval_prediction(test_results, test_targets, \"test\")"
   ]
  },
  {
   "cell_type": "code",
   "execution_count": 7,
   "metadata": {},
   "outputs": [
    {
     "name": "stdout",
     "output_type": "stream",
     "text": [
      "(661, 501)\n",
      "(661,)\n",
      "(133, 501)\n",
      "(133,)\n",
      "(528, 501)\n",
      "(528,)\n"
     ]
    }
   ],
   "source": [
    "print(states.shape)\n",
    "print(targets.shape)\n",
    "print(test_states.shape)\n",
    "print(test_targets.shape)\n",
    "print(train_states.shape)\n",
    "print(train_targets.shape)"
   ]
  },
  {
   "cell_type": "code",
   "execution_count": 8,
   "metadata": {},
   "outputs": [
    {
     "name": "stdout",
     "output_type": "stream",
     "text": [
      "(661,)\n"
     ]
    }
   ],
   "source": [
    "print(targets.shape)\n"
   ]
  },
  {
   "cell_type": "code",
   "execution_count": 9,
   "metadata": {},
   "outputs": [
    {
     "data": {
      "image/png": "[encoded data removed]",
      "text/plain": [
       "<Figure size 432x288 with 1 Axes>"
      ]
     },
     "metadata": {
      "needs_background": "light"
     },
     "output_type": "display_data"
    }
   ],
   "source": [
    "inp_spikes[0]\n",
    "plot.eventplot(inp_spikes,linelengths=0.3)     \n",
    "plot.show()"
   ]
  },
  {
   "cell_type": "code",
   "execution_count": 10,
   "metadata": {},
   "outputs": [],
   "source": [
    "def generate_stimulus_noise(stim_times, gen_burst, n_inputs=2):\n",
    "    inp_states = np.random.randint(2, size=(n_inputs, np.size(stim_times)))\n",
    "    inp_spikes = []\n",
    "\n",
    "    for times in ma.masked_values(inp_states, 0) * stim_times:\n",
    "        # for each input (neuron): generate spikes according to state (=1) and stimulus time-grid\n",
    "        spikes = np.concatenate([t + gen_burst() for t in times.compressed()])\n",
    "\n",
    "        # round to simulation precision\n",
    "        spikes *= 10\n",
    "        spikes = spikes.round() + 1.0\n",
    "        spikes = spikes / 10.0\n",
    "\n",
    "        inp_spikes.append(spikes)\n",
    "\n",
    "    # astype(int) could be omitted, because False/True has the same semantics\n",
    "#     targets = np.logical_xor(*inp_states).astype(int)\n",
    "    targets = np.random.randint(0,2,inp_states.size)\n",
    "    return inp_spikes, targets\n",
    "\n",
    "noise, noisyTarget = generate_stimulus_noise(stim_times, gen_burst=gen_stimulus_pattern)\n",
    "\n",
    "\n",
    "\n",
    "# "
   ]
  },
  {
   "cell_type": "code",
   "execution_count": 11,
   "metadata": {},
   "outputs": [
    {
     "data": {
      "image/png": "[encoded data removed]",
      "text/plain": [
       "<Figure size 432x288 with 1 Axes>"
      ]
     },
     "metadata": {
      "needs_background": "light"
     },
     "output_type": "display_data"
    }
   ],
   "source": [
    "plot.eventplot(noise,linelengths=0.3)     \n",
    "plot.show()"
   ]
  },
  {
   "cell_type": "code",
   "execution_count": 12,
   "metadata": {},
   "outputs": [
    {
     "data": {
      "text/plain": [
       "1"
      ]
     },
     "execution_count": 12,
     "metadata": {},
     "output_type": "execute_result"
    }
   ],
   "source": [
    "np.random.randint(0,2)"
   ]
  },
  {
   "cell_type": "code",
   "execution_count": 13,
   "metadata": {},
   "outputs": [
    {
     "data": {
      "text/plain": [
       "1"
      ]
     },
     "execution_count": 13,
     "metadata": {},
     "output_type": "execute_result"
    }
   ],
   "source": [
    "np.random.randint(0,2)"
   ]
  },
  {
   "cell_type": "code",
   "execution_count": 14,
   "metadata": {},
   "outputs": [
    {
     "data": {
      "text/plain": [
       "3"
      ]
     },
     "execution_count": 14,
     "metadata": {},
     "output_type": "execute_result"
    }
   ],
   "source": [
    "np.random.randint(1,5)"
   ]
  },
  {
   "cell_type": "markdown",
   "metadata": {},
   "source": [
    "\n",
    "\n",
    "simulation time: 200000ms\n",
    "number of stimuli: 666\n",
    "size of each state: 501\n",
    "---------------------------------------\n",
    "mismatched training examples: 0/528 [0.0%]\n",
    "mismatched test examples: 3/133 [2.3%]\n",
    "\n",
    "\n",
    "bound = 20\n",
    "5.3069999999999995\n",
    "////\n",
    "\n",
    "\n",
    "simulation time: 200000ms\n",
    "number of stimuli: 666\n",
    "size of each state: 501\n",
    "---------------------------------------\n",
    "mismatched training examples: 6/528 [1.1%]\n",
    "mismatched test examples: 21/133 [15.8%]\n",
    "\n",
    "\n",
    "bound = 8\n",
    "14.29\n",
    "\n",
    "////\n",
    "\n",
    "simulation time: 200000ms\n",
    "number of stimuli: 666\n",
    "size of each state: 501\n",
    "---------------------------------------\n",
    "mismatched training examples: 2/528 [0.4%]\n",
    "mismatched test examples: 32/133 [24.1%]\n",
    "\n",
    "\n",
    "\n",
    "bound = 5\n",
    "\n",
    "\n",
    "///////\n",
    "\n",
    "if np.random.randint(1,5)%4 == 0:\n",
    "\n",
    "simulation time: 200000ms\n",
    "number of stimuli: 666\n",
    "size of each state: 501\n",
    "---------------------------------------\n",
    "mismatched training examples: 10/528 [1.9%]\n",
    "mismatched test examples: 38/133 [28.6%]\n",
    "\n",
    "25.135999999999996\n",
    "\n",
    "//////\n",
    "\n",
    "bound = 4 \n",
    "\n",
    "simulation time: 200000ms\n",
    "number of stimuli: 666\n",
    "size of each state: 501\n",
    "---------------------------------------\n",
    "mismatched training examples: 14/528 [2.7%]\n",
    "mismatched test examples: 31/133 [23.3%]\n",
    "\n",
    "\n",
    "\n",
    "////\n",
    "if np.random.randint(1,3)%2 == 0:\n",
    "\n",
    "bound = 3\n",
    "\n",
    "\n",
    "\n",
    "simulation time: 200000ms\n",
    "number of stimuli: 666\n",
    "size of each state: 501\n",
    "---------------------------------------\n",
    "mismatched training examples: 183/528 [34.7%]\n",
    "mismatched test examples: 49/133 [36.8%]\n",
    "\n",
    "49.983\n",
    "\n",
    "///////\n"
   ]
  },
  {
   "cell_type": "code",
   "execution_count": 3,
   "metadata": {},
   "outputs": [
    {
     "name": "stdout",
     "output_type": "stream",
     "text": [
      "25.178\n"
     ]
    }
   ],
   "source": [
    "count = 0\n",
    "trials = 100000\n",
    "bound = 5\n",
    "for i in range(trials):\n",
    "    if np.random.randint(1,bound)%bound -1 == 0:\n",
    "        count += 1\n",
    "        \n",
    "print(count/trials * 100)"
   ]
  },
  {
   "cell_type": "code",
   "execution_count": 29,
   "metadata": {},
   "outputs": [
    {
     "data": {
      "image/png": "[encoded data removed]",
      "text/plain": [
       "<Figure size 432x288 with 1 Axes>"
      ]
     },
     "metadata": {
      "needs_background": "light"
     },
     "output_type": "display_data"
    }
   ],
   "source": [
    "noise = [20,8,6,5,4,3]\n",
    "test = [2.3,15.8,24.1,23.3,28.6,36.8]\n",
    "train = [0.0,1.1,0.4,1.9,2.7,34.7]\n",
    "noise = [1/(i-1)*100 for i in noise]\n",
    "test = [100 - i for i in test]\n",
    "train = [100 - i for i in train]\n",
    "\n",
    "plot.plot(noise,test)\n",
    "plot.plot(noise,train)\n",
    "plot.legend([\"Test Data\",\"Train Data\"])\n",
    "plot.xlabel(\"Percentage of Noise in Signal\")\n",
    "plot.ylabel(\"Percentage of Correctly Classified Odours\")\n",
    "plot.show()\n",
    "\n",
    "\n",
    "\n",
    "\n"
   ]
  },
  {
   "cell_type": "code",
   "execution_count": 20,
   "metadata": {},
   "outputs": [],
   "source": [
    "# per = (1./noise* 100)\n",
    "noise = [1/i for i in noise]\n"
   ]
  },
  {
   "cell_type": "code",
   "execution_count": null,
   "metadata": {},
   "outputs": [],
   "source": []
  }
 ],
 "metadata": {
  "kernelspec": {
   "display_name": "Python 3",
   "language": "python",
   "name": "python3"
  },
  "language_info": {
   "codemirror_mode": {
    "name": "ipython",
    "version": 3
   },
   "file_extension": ".py",
   "mimetype": "text/x-python",
   "name": "python",
   "nbconvert_exporter": "python",
   "pygments_lexer": "ipython3",
   "version": "3.7.0"
  }
 },
 "nbformat": 4,
 "nbformat_minor": 2
}
